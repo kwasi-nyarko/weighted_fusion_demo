{
 "cells": [
  {
   "cell_type": "code",
   "execution_count": 1,
   "id": "81784bc5",
   "metadata": {},
   "outputs": [],
   "source": [
    "import numpy as np\n",
    "import os\n",
    "\n",
    "\n",
    "# Main Parameters\n",
    "voxel_size = 0.05\n",
    "k_1 = 1\n",
    "k_2 = 1\n",
    "threshold = 0.01"
   ]
  },
  {
   "cell_type": "code",
   "execution_count": 2,
   "id": "eca410ef",
   "metadata": {},
   "outputs": [
    {
     "name": "stdout",
     "output_type": "stream",
     "text": [
      "Jupyter environment detected. Enabling Open3D WebVisualizer.\n",
      "[Open3D INFO] WebRTC GUI backend enabled.\n",
      "[Open3D INFO] WebRTCWindowSystem: HTTP handshake server disabled.\n",
      "Number of points in search space (voxels):  25\n"
     ]
    }
   ],
   "source": [
    "from weighted_fusion import np_point_cloud2_pcd, pcd2np_point_cloud\n",
    "from weighted_fusion_io import load_pointCloud\n",
    "\n",
    "# Load Point Clouds and prepocess data\n",
    "PC1 = \"assets/bun000_Cloud.las\"\n",
    "PC2 = \"assets/bun045_Cloud.las\"\n",
    "output_path = \"output\"\n",
    "\n",
    "lst_PC = [load_pointCloud(PC1), load_pointCloud(PC2)]\n",
    "lst_acc = [0.01, 0.01]\n",
    "reference_pc = np.vstack(lst_PC)\n",
    "\n",
    "ds_reference = np_point_cloud2_pcd(reference_pc).voxel_down_sample(\n",
    "    voxel_size=voxel_size\n",
    ")\n",
    "ds_sub_reference = np_point_cloud2_pcd(reference_pc).voxel_down_sample(\n",
    "    voxel_size=voxel_size / 2\n",
    ")\n",
    "ds_reference = pcd2np_point_cloud(ds_reference)\n",
    "ds_sub_reference = pcd2np_point_cloud(ds_sub_reference)\n",
    "\n",
    "print(\"Number of points in search space (voxels): \", ds_reference.shape[0])"
   ]
  },
  {
   "cell_type": "code",
   "execution_count": 3,
   "id": "af4c277c",
   "metadata": {},
   "outputs": [
    {
     "name": "stdout",
     "output_type": "stream",
     "text": [
      "Computing point cloud weights .... Done\n"
     ]
    },
    {
     "name": "stderr",
     "output_type": "stream",
     "text": [
      "100%|██████████| 25/25 [00:02<00:00, 10.23it/s]\n"
     ]
    }
   ],
   "source": [
    "from weighted_fusion import compute_weights, weighted_fusion_filter\n",
    "from weighted_fusion_io import write_las_file\n",
    "\n",
    "# Main Code\n",
    "weights = compute_weights(reference_pc, lst_PC, lst_acc, voxel_size=voxel_size)\n",
    "print(\"Computing point cloud weights .... Done\")\n",
    "\n",
    "fused_PC_1, point_contrib = weighted_fusion_filter(\n",
    "    lst_PC, weights, ds_reference, ds_sub_reference, voxel_size, k_1, k_2, threshold\n",
    ")\n",
    "\n",
    "fused_PC_1 = np.unique(fused_PC_1, axis=0)\n",
    "\n",
    "file_name = \"weighted_fused_filtered_{}_cm_vox.las\".format(int(voxel_size * 100))\n",
    "write_las_file(fused_PC_1, os.path.join(output_path, file_name))"
   ]
  }
 ],
 "metadata": {
  "kernelspec": {
   "display_name": ".venv",
   "language": "python",
   "name": "python3"
  },
  "language_info": {
   "codemirror_mode": {
    "name": "ipython",
    "version": 3
   },
   "file_extension": ".py",
   "mimetype": "text/x-python",
   "name": "python",
   "nbconvert_exporter": "python",
   "pygments_lexer": "ipython3",
   "version": "3.12.3"
  }
 },
 "nbformat": 4,
 "nbformat_minor": 5
}
